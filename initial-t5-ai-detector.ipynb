{
 "cells": [
  {
   "cell_type": "markdown",
   "id": "a091e99e",
   "metadata": {},
   "source": [
    "# Load Data"
   ]
  },
  {
   "cell_type": "code",
   "execution_count": null,
   "id": "34879913",
   "metadata": {},
   "outputs": [],
   "source": [
    "import pandas as pd\n",
    "from datasets import load_dataset\n",
    "\n",
    "ds = load_dataset(\"Hello-SimpleAI/HC3\", \"all\")\n",
    "\n",
    "# Extract and label data for the Hugging Face dataset\n",
    "rows = []\n",
    "for entry in ds[\"train\"]:\n",
    "    for a in entry[\"chatgpt_answers\"]:\n",
    "        rows.append({\"text\": a.strip(), \"label\": 0})  # AI\n",
    "    for a in entry[\"human_answers\"]:\n",
    "        rows.append({\"text\": a.strip(), \"label\": 1})  # Human\n",
    "\n",
    "df = pd.DataFrame(rows).dropna()\n",
    "print(f\"Samples: {len(df)}\")\n",
    "df.head()"
   ]
  },
  {
   "cell_type": "code",
   "execution_count": null,
   "id": "becd5ca9",
   "metadata": {},
   "outputs": [],
   "source": [
    "# Balance classes\n",
    "min_class = df['label'].value_counts().min()\n",
    "data_balanced = pd.concat([\n",
    "    df[df['label'] == 0].sample(min_class),\n",
    "    df[df['label'] == 1].sample(min_class)\n",
    "]).sample(frac=1).reset_index(drop=True)"
   ]
  },
  {
   "cell_type": "markdown",
   "id": "74029131",
   "metadata": {},
   "source": [
    "# Model Stuff"
   ]
  },
  {
   "cell_type": "code",
   "execution_count": null,
   "id": "27e18ffa",
   "metadata": {},
   "outputs": [],
   "source": [
    "# Tokenization + Dataset Prep\n",
    "from transformers import T5Tokenizer, T5ForSequenceClassification\n",
    "from torch.utils.data import Dataset, DataLoader\n",
    "import torch\n",
    "\n",
    "tokenizer = T5Tokenizer.from_pretrained(\"t5-small\")\n",
    "\n",
    "class CombinedDataset(Dataset):\n",
    "    def __init__(self, texts, labels, tokenizer, max_len=256):\n",
    "        self.encodings = tokenizer(texts, truncation=True, padding=True, max_length=max_len)\n",
    "        self.labels = labels\n",
    "\n",
    "    def __len__(self): return len(self.labels)\n",
    "\n",
    "    def __getitem__(self, idx):\n",
    "        item = {k: torch.tensor(v[idx]) for k, v in self.encodings.items()}\n",
    "        item['labels'] = torch.tensor(self.labels[idx])\n",
    "        return item\n",
    "\n",
    "train_dataset = CombinedDataset(data_balanced['text'].tolist(), data_balanced['label'].tolist(), tokenizer)\n",
    "train_loader = DataLoader(train_dataset, batch_size=8, shuffle=True)"
   ]
  },
  {
   "cell_type": "code",
   "execution_count": null,
   "id": "bf174fe9",
   "metadata": {},
   "outputs": [],
   "source": [
    "model = T5ForSequenceClassification.from_pretrained(\"t5-small\", num_labels=2)"
   ]
  },
  {
   "cell_type": "code",
   "execution_count": null,
   "id": "c8fd059a",
   "metadata": {},
   "outputs": [],
   "source": [
    "# Train\n",
    "\n",
    "device = torch.device(\"cuda\" if torch.cuda.is_available() else \"cpu\")\n",
    "model.to(device)\n",
    "\n",
    "from transformers import AdamW\n",
    "from tqdm import tqdm\n",
    "\n",
    "optimizer = AdamW(model.parameters(), lr=2e-5)\n",
    "\n",
    "model.train()\n",
    "for epoch in range(1):\n",
    "    total_loss = 0\n",
    "    for batch in tqdm(train_loader):\n",
    "        batch = {k: v.to(device) for k, v in batch.items()}\n",
    "        outputs = model(**batch)\n",
    "        loss = outputs.loss\n",
    "        total_loss += loss.item()\n",
    "        loss.backward()\n",
    "        optimizer.step()\n",
    "        optimizer.zero_grad()\n",
    "    print(f\"Epoch {epoch + 1} Loss: {total_loss:.4f}\")"
   ]
  },
  {
   "cell_type": "code",
   "execution_count": null,
   "id": "5aa14c17",
   "metadata": {},
   "outputs": [],
   "source": [
    "model.save_pretrained(\"initial-t5-ai-detector\")\n",
    "tokenizer.save_pretrained(\"initial-t5-ai-detector\")"
   ]
  },
  {
   "cell_type": "markdown",
   "id": "8e45dd5f",
   "metadata": {},
   "source": [
    "# Eval"
   ]
  },
  {
   "cell_type": "code",
   "execution_count": null,
   "id": "a20687d8",
   "metadata": {},
   "outputs": [],
   "source": [
    "from transformers import T5ForSequenceClassification, T5Tokenizer\n",
    "\n",
    "device = torch.device(\"cuda\" if torch.cuda.is_available() else \"cpu\")\n",
    "\n",
    "# Load model and tokenizer from the saved directory\n",
    "model = T5ForSequenceClassification.from_pretrained(\"initial-t5-ai-detector\").to(device)\n",
    "tokenizer = T5Tokenizer.from_pretrained(\"initial-t5-ai-detector\")\n",
    "\n",
    "# Predict\n",
    "model.eval()\n",
    "preds = []"
   ]
  },
  {
   "cell_type": "code",
   "execution_count": 7,
   "id": "c969b163",
   "metadata": {},
   "outputs": [
    {
     "name": "stderr",
     "output_type": "stream",
     "text": [
      "Evaluating arxiv_chatGPT.jsonl: 100%|██████████| 750/750 [00:24<00:00, 30.39it/s]\n"
     ]
    },
    {
     "name": "stdout",
     "output_type": "stream",
     "text": [
      "\n",
      "===== Results for arxiv_chatGPT.jsonl =====\n",
      "               precision    recall  f1-score   support\n",
      "\n",
      " AI-generated       0.92      0.97      0.95      3000\n",
      "Human-written       0.97      0.92      0.94      3000\n",
      "\n",
      "     accuracy                           0.94      6000\n",
      "    macro avg       0.95      0.94      0.94      6000\n",
      " weighted avg       0.95      0.94      0.94      6000\n",
      "\n"
     ]
    },
    {
     "name": "stderr",
     "output_type": "stream",
     "text": [
      "Evaluating arxiv_cohere.jsonl: 100%|██████████| 750/750 [00:24<00:00, 30.31it/s]\n"
     ]
    },
    {
     "name": "stdout",
     "output_type": "stream",
     "text": [
      "\n",
      "===== Results for arxiv_cohere.jsonl =====\n",
      "               precision    recall  f1-score   support\n",
      "\n",
      " AI-generated       0.92      0.90      0.91      3000\n",
      "Human-written       0.90      0.92      0.91      3000\n",
      "\n",
      "     accuracy                           0.91      6000\n",
      "    macro avg       0.91      0.91      0.91      6000\n",
      " weighted avg       0.91      0.91      0.91      6000\n",
      "\n"
     ]
    },
    {
     "name": "stderr",
     "output_type": "stream",
     "text": [
      "Evaluating reddit_chatGPT.jsonl: 100%|██████████| 750/750 [00:27<00:00, 27.72it/s]\n"
     ]
    },
    {
     "name": "stdout",
     "output_type": "stream",
     "text": [
      "\n",
      "===== Results for reddit_chatGPT.jsonl =====\n",
      "               precision    recall  f1-score   support\n",
      "\n",
      " AI-generated       0.88      0.99      0.93      3000\n",
      "Human-written       0.99      0.86      0.92      3000\n",
      "\n",
      "     accuracy                           0.92      6000\n",
      "    macro avg       0.93      0.92      0.92      6000\n",
      " weighted avg       0.93      0.92      0.92      6000\n",
      "\n"
     ]
    },
    {
     "name": "stderr",
     "output_type": "stream",
     "text": [
      "Evaluating reddit_cohere.jsonl: 100%|██████████| 750/750 [00:21<00:00, 34.98it/s] \n"
     ]
    },
    {
     "name": "stdout",
     "output_type": "stream",
     "text": [
      "\n",
      "===== Results for reddit_cohere.jsonl =====\n",
      "               precision    recall  f1-score   support\n",
      "\n",
      " AI-generated       0.88      0.98      0.93      3000\n",
      "Human-written       0.98      0.86      0.92      3000\n",
      "\n",
      "     accuracy                           0.92      6000\n",
      "    macro avg       0.93      0.92      0.92      6000\n",
      " weighted avg       0.93      0.92      0.92      6000\n",
      "\n"
     ]
    },
    {
     "name": "stderr",
     "output_type": "stream",
     "text": [
      "Evaluating german_wikipedia.jsonl: 100%|██████████| 125/125 [00:04<00:00, 28.43it/s]\n"
     ]
    },
    {
     "name": "stdout",
     "output_type": "stream",
     "text": [
      "\n",
      "===== Results for german_wikipedia.jsonl =====\n",
      "               precision    recall  f1-score   support\n",
      "\n",
      " AI-generated       0.57      0.23      0.33       500\n",
      "Human-written       0.52      0.82      0.64       500\n",
      "\n",
      "     accuracy                           0.53      1000\n",
      "    macro avg       0.54      0.53      0.48      1000\n",
      " weighted avg       0.54      0.53      0.48      1000\n",
      "\n"
     ]
    },
    {
     "name": "stderr",
     "output_type": "stream",
     "text": [
      "Evaluating hewlett.json: 100%|██████████| 11/11 [00:00<00:00, 27.99it/s]\n",
      "/home/sneha/venv/lib/python3.8/site-packages/sklearn/metrics/_classification.py:1471: UndefinedMetricWarning: Recall and F-score are ill-defined and being set to 0.0 in labels with no true samples. Use `zero_division` parameter to control this behavior.\n",
      "  _warn_prf(average, modifier, msg_start, len(result))\n",
      "/home/sneha/venv/lib/python3.8/site-packages/sklearn/metrics/_classification.py:1471: UndefinedMetricWarning: Recall and F-score are ill-defined and being set to 0.0 in labels with no true samples. Use `zero_division` parameter to control this behavior.\n",
      "  _warn_prf(average, modifier, msg_start, len(result))\n",
      "/home/sneha/venv/lib/python3.8/site-packages/sklearn/metrics/_classification.py:1471: UndefinedMetricWarning: Recall and F-score are ill-defined and being set to 0.0 in labels with no true samples. Use `zero_division` parameter to control this behavior.\n",
      "  _warn_prf(average, modifier, msg_start, len(result))\n"
     ]
    },
    {
     "name": "stdout",
     "output_type": "stream",
     "text": [
      "\n",
      "===== Results for hewlett.json =====\n",
      "               precision    recall  f1-score   support\n",
      "\n",
      " AI-generated       0.00      0.00      0.00         0\n",
      "Human-written       1.00      0.89      0.94        88\n",
      "\n",
      "     accuracy                           0.89        88\n",
      "    macro avg       0.50      0.44      0.47        88\n",
      " weighted avg       1.00      0.89      0.94        88\n",
      "\n"
     ]
    },
    {
     "name": "stderr",
     "output_type": "stream",
     "text": [
      "Evaluating toefl.json: 100%|██████████| 12/12 [00:00<00:00, 49.30it/s]"
     ]
    },
    {
     "name": "stdout",
     "output_type": "stream",
     "text": [
      "\n",
      "===== Results for toefl.json =====\n",
      "               precision    recall  f1-score   support\n",
      "\n",
      " AI-generated       0.00      0.00      0.00         0\n",
      "Human-written       1.00      0.41      0.58        91\n",
      "\n",
      "     accuracy                           0.41        91\n",
      "    macro avg       0.50      0.20      0.29        91\n",
      " weighted avg       1.00      0.41      0.58        91\n",
      "\n"
     ]
    },
    {
     "name": "stderr",
     "output_type": "stream",
     "text": [
      "\n",
      "/home/sneha/venv/lib/python3.8/site-packages/sklearn/metrics/_classification.py:1471: UndefinedMetricWarning: Recall and F-score are ill-defined and being set to 0.0 in labels with no true samples. Use `zero_division` parameter to control this behavior.\n",
      "  _warn_prf(average, modifier, msg_start, len(result))\n",
      "/home/sneha/venv/lib/python3.8/site-packages/sklearn/metrics/_classification.py:1471: UndefinedMetricWarning: Recall and F-score are ill-defined and being set to 0.0 in labels with no true samples. Use `zero_division` parameter to control this behavior.\n",
      "  _warn_prf(average, modifier, msg_start, len(result))\n",
      "/home/sneha/venv/lib/python3.8/site-packages/sklearn/metrics/_classification.py:1471: UndefinedMetricWarning: Recall and F-score are ill-defined and being set to 0.0 in labels with no true samples. Use `zero_division` parameter to control this behavior.\n",
      "  _warn_prf(average, modifier, msg_start, len(result))\n"
     ]
    }
   ],
   "source": [
    "import os\n",
    "import json\n",
    "import jsonlines\n",
    "import torch\n",
    "from transformers import T5ForSequenceClassification, T5Tokenizer\n",
    "from sklearn.metrics import classification_report\n",
    "from tqdm import tqdm\n",
    "\n",
    "# Load model\n",
    "device = torch.device(\"cuda\" if torch.cuda.is_available() else \"cpu\")\n",
    "model = T5ForSequenceClassification.from_pretrained(\"initial-t5-ai-detector\").to(device)\n",
    "tokenizer = T5Tokenizer.from_pretrained(\"initial-t5-ai-detector\")\n",
    "\n",
    "# Directory containing eval files\n",
    "dev_dir = \"cs162-final-dev-main\"\n",
    "\n",
    "# File list (add more files here if needed)\n",
    "files = [\n",
    "    \"arxiv_chatGPT.jsonl\",\n",
    "    \"arxiv_cohere.jsonl\",\n",
    "    \"reddit_chatGPT.jsonl\",\n",
    "    \"reddit_cohere.jsonl\",\n",
    "    \"german_wikipedia.jsonl\",\n",
    "    \"hewlett.json\",\n",
    "    \"toefl.json\"\n",
    "]\n",
    "\n",
    "# Main evaluation loop\n",
    "for filename in files:\n",
    "    file_path = os.path.join(dev_dir, filename)\n",
    "    texts, true_labels = [], []\n",
    "\n",
    "    if filename.endswith(\".jsonl\"):\n",
    "        # Handle jsonlines files\n",
    "        human_texts, machine_texts = [], []\n",
    "        with jsonlines.open(file_path) as reader:\n",
    "            for row in reader:\n",
    "                human_texts.append(row[\"human_text\"])\n",
    "                machine_texts.append(row[\"machine_text\"])\n",
    "        texts = human_texts + machine_texts\n",
    "        true_labels = [1] * len(human_texts) + [0] * len(machine_texts)\n",
    "\n",
    "    elif filename.endswith(\".json\"):\n",
    "        # Handle full json files (hewlett, toefl)\n",
    "        with open(file_path, 'r') as f:\n",
    "            data = json.load(f)\n",
    "            texts = [entry[\"document\"] for entry in data]\n",
    "            true_labels = [1] * len(texts)  # All human-labeled\n",
    "\n",
    "    else:\n",
    "        print(f\"Skipping unsupported file type: {filename}\")\n",
    "        continue\n",
    "\n",
    "    # Inference\n",
    "    preds = []\n",
    "    model.eval()\n",
    "    with torch.no_grad():\n",
    "        for i in tqdm(range(0, len(texts), 8), desc=f\"Evaluating {filename}\"):\n",
    "            batch = texts[i:i+8]\n",
    "            encodings = tokenizer(batch, return_tensors=\"pt\", padding=True, truncation=True, max_length=256)\n",
    "            input_ids = encodings[\"input_ids\"].to(device)\n",
    "            attention_mask = encodings[\"attention_mask\"].to(device)\n",
    "            outputs = model(input_ids=input_ids, attention_mask=attention_mask)\n",
    "            batch_preds = torch.argmax(outputs.logits, dim=1).tolist()\n",
    "            preds.extend(batch_preds)\n",
    "\n",
    "    # Print evaluation result\n",
    "    print(f\"\\n===== Results for {filename} =====\")\n",
    "    print(classification_report(true_labels, preds, target_names=[\"AI-generated\", \"Human-written\"]))\n"
   ]
  }
 ],
 "metadata": {
  "kernelspec": {
   "display_name": "venv",
   "language": "python",
   "name": "python3"
  },
  "language_info": {
   "codemirror_mode": {
    "name": "ipython",
    "version": 3
   },
   "file_extension": ".py",
   "mimetype": "text/x-python",
   "name": "python",
   "nbconvert_exporter": "python",
   "pygments_lexer": "ipython3",
   "version": "3.8.10"
  }
 },
 "nbformat": 4,
 "nbformat_minor": 5
}
