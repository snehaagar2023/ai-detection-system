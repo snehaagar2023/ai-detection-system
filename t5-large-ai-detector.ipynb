{
 "cells": [
  {
   "cell_type": "markdown",
   "id": "c20865c2",
   "metadata": {},
   "source": [
    "# configure data"
   ]
  },
  {
   "cell_type": "code",
   "execution_count": 1,
   "id": "e892ab64",
   "metadata": {},
   "outputs": [
    {
     "name": "stderr",
     "output_type": "stream",
     "text": [
      "/home/sneha/venv/lib/python3.8/site-packages/tqdm/auto.py:21: TqdmWarning: IProgress not found. Please update jupyter and ipywidgets. See https://ipywidgets.readthedocs.io/en/stable/user_install.html\n",
      "  from .autonotebook import tqdm as notebook_tqdm\n"
     ]
    },
    {
     "name": "stdout",
     "output_type": "stream",
     "text": [
      "Samples: 85449\n"
     ]
    },
    {
     "data": {
      "text/html": [
       "<div>\n",
       "<style scoped>\n",
       "    .dataframe tbody tr th:only-of-type {\n",
       "        vertical-align: middle;\n",
       "    }\n",
       "\n",
       "    .dataframe tbody tr th {\n",
       "        vertical-align: top;\n",
       "    }\n",
       "\n",
       "    .dataframe thead th {\n",
       "        text-align: right;\n",
       "    }\n",
       "</style>\n",
       "<table border=\"1\" class=\"dataframe\">\n",
       "  <thead>\n",
       "    <tr style=\"text-align: right;\">\n",
       "      <th></th>\n",
       "      <th>text</th>\n",
       "      <th>label</th>\n",
       "    </tr>\n",
       "  </thead>\n",
       "  <tbody>\n",
       "    <tr>\n",
       "      <th>0</th>\n",
       "      <td>There are many different best seller lists tha...</td>\n",
       "      <td>0</td>\n",
       "    </tr>\n",
       "    <tr>\n",
       "      <th>1</th>\n",
       "      <td>Basically there are many categories of \" Best ...</td>\n",
       "      <td>1</td>\n",
       "    </tr>\n",
       "    <tr>\n",
       "      <th>2</th>\n",
       "      <td>If you 're hearing about it , it 's because it...</td>\n",
       "      <td>1</td>\n",
       "    </tr>\n",
       "    <tr>\n",
       "      <th>3</th>\n",
       "      <td>One reason is lots of catagories . However , h...</td>\n",
       "      <td>1</td>\n",
       "    </tr>\n",
       "    <tr>\n",
       "      <th>4</th>\n",
       "      <td>Salt is used on roads to help melt ice and sno...</td>\n",
       "      <td>0</td>\n",
       "    </tr>\n",
       "  </tbody>\n",
       "</table>\n",
       "</div>"
      ],
      "text/plain": [
       "                                                text  label\n",
       "0  There are many different best seller lists tha...      0\n",
       "1  Basically there are many categories of \" Best ...      1\n",
       "2  If you 're hearing about it , it 's because it...      1\n",
       "3  One reason is lots of catagories . However , h...      1\n",
       "4  Salt is used on roads to help melt ice and sno...      0"
      ]
     },
     "execution_count": 1,
     "metadata": {},
     "output_type": "execute_result"
    }
   ],
   "source": [
    "import pandas as pd\n",
    "from datasets import load_dataset\n",
    "\n",
    "ds = load_dataset(\"Hello-SimpleAI/HC3\", \"all\")\n",
    "\n",
    "# Extract and label data for the Hugging Face dataset\n",
    "rows = []\n",
    "for entry in ds[\"train\"]:\n",
    "    for a in entry[\"chatgpt_answers\"]:\n",
    "        rows.append({\"text\": a.strip(), \"label\": 0})  # AI\n",
    "    for a in entry[\"human_answers\"]:\n",
    "        rows.append({\"text\": a.strip(), \"label\": 1})  # Human\n",
    "\n",
    "df = pd.DataFrame(rows).dropna()\n",
    "print(f\"Samples: {len(df)}\")\n",
    "df.head()"
   ]
  },
  {
   "cell_type": "code",
   "execution_count": 2,
   "id": "bc1f8e9c",
   "metadata": {},
   "outputs": [],
   "source": [
    "# Balance classes\n",
    "min_class = df['label'].value_counts().min()\n",
    "data_balanced = pd.concat([\n",
    "    df[df['label'] == 0].sample(min_class),\n",
    "    df[df['label'] == 1].sample(min_class)\n",
    "]).sample(frac=1).reset_index(drop=True)"
   ]
  },
  {
   "cell_type": "code",
   "execution_count": 3,
   "id": "6119bd35",
   "metadata": {},
   "outputs": [
    {
     "name": "stderr",
     "output_type": "stream",
     "text": [
      "You are using the default legacy behaviour of the <class 'transformers.models.t5.tokenization_t5.T5Tokenizer'>. This is expected, and simply means that the `legacy` (previous) behavior will be used so nothing changes for you. If you want to use the new behaviour, set `legacy=False`. This should only be set if you understand what it means, and thoroughly read the reason why this was added as explained in https://github.com/huggingface/transformers/pull/24565\n"
     ]
    }
   ],
   "source": [
    "# Tokenization + Dataset Prep\n",
    "from transformers import T5Tokenizer, T5ForSequenceClassification\n",
    "from torch.utils.data import Dataset, DataLoader\n",
    "import torch\n",
    "\n",
    "tokenizer = T5Tokenizer.from_pretrained(\"t5-large\")\n",
    "\n",
    "class CombinedDataset(Dataset):\n",
    "    def __init__(self, texts, labels, tokenizer, max_len=256):\n",
    "        self.encodings = tokenizer(texts, truncation=True, padding=True, max_length=max_len)\n",
    "        self.labels = labels\n",
    "\n",
    "    def __len__(self): return len(self.labels)\n",
    "\n",
    "    def __getitem__(self, idx):\n",
    "        item = {k: torch.tensor(v[idx]) for k, v in self.encodings.items()}\n",
    "        item['labels'] = torch.tensor(self.labels[idx])\n",
    "        return item\n",
    "\n",
    "train_dataset = CombinedDataset(data_balanced['text'].tolist(), data_balanced['label'].tolist(), tokenizer)\n",
    "train_loader = DataLoader(train_dataset, batch_size=4, shuffle=True)"
   ]
  },
  {
   "cell_type": "markdown",
   "id": "a5c4b2dd",
   "metadata": {},
   "source": [
    "# model stuff"
   ]
  },
  {
   "cell_type": "code",
   "execution_count": 4,
   "id": "4c422add",
   "metadata": {},
   "outputs": [
    {
     "name": "stderr",
     "output_type": "stream",
     "text": [
      "Some weights of T5ForSequenceClassification were not initialized from the model checkpoint at t5-large and are newly initialized: ['classification_head.dense.bias', 'classification_head.dense.weight', 'classification_head.out_proj.bias', 'classification_head.out_proj.weight']\n",
      "You should probably TRAIN this model on a down-stream task to be able to use it for predictions and inference.\n"
     ]
    }
   ],
   "source": [
    "model = T5ForSequenceClassification.from_pretrained(\"t5-large\", num_labels=2)"
   ]
  },
  {
   "cell_type": "code",
   "execution_count": 5,
   "id": "b4c09972",
   "metadata": {},
   "outputs": [
    {
     "name": "stderr",
     "output_type": "stream",
     "text": [
      "100%|██████████| 13452/13452 [2:22:54<00:00,  1.57it/s] \n"
     ]
    },
    {
     "name": "stdout",
     "output_type": "stream",
     "text": [
      "Epoch 1 Loss: 189.2406\n"
     ]
    },
    {
     "name": "stderr",
     "output_type": "stream",
     "text": [
      "100%|██████████| 13452/13452 [2:22:39<00:00,  1.57it/s] \n"
     ]
    },
    {
     "name": "stdout",
     "output_type": "stream",
     "text": [
      "Epoch 2 Loss: 39.0959\n"
     ]
    },
    {
     "name": "stderr",
     "output_type": "stream",
     "text": [
      "100%|██████████| 13452/13452 [2:22:47<00:00,  1.57it/s] "
     ]
    },
    {
     "name": "stdout",
     "output_type": "stream",
     "text": [
      "Epoch 3 Loss: 24.9684\n"
     ]
    },
    {
     "name": "stderr",
     "output_type": "stream",
     "text": [
      "\n"
     ]
    }
   ],
   "source": [
    "# Train\n",
    "\n",
    "device = torch.device(\"cuda\" if torch.cuda.is_available() else \"cpu\")\n",
    "model.to(device)\n",
    "\n",
    "from torch.optim import AdamW\n",
    "from tqdm import tqdm\n",
    "\n",
    "optimizer = AdamW(model.parameters(), lr=2e-5)\n",
    "\n",
    "model.train()\n",
    "for epoch in range(3):\n",
    "    total_loss = 0\n",
    "    for batch in tqdm(train_loader):\n",
    "        batch = {k: v.to(device) for k, v in batch.items()}\n",
    "        outputs = model(**batch)\n",
    "        loss = outputs.loss\n",
    "        total_loss += loss.item()\n",
    "        loss.backward()\n",
    "        optimizer.step()\n",
    "        optimizer.zero_grad()\n",
    "    print(f\"Epoch {epoch + 1} Loss: {total_loss:.4f}\")"
   ]
  },
  {
   "cell_type": "code",
   "execution_count": 7,
   "id": "cb18ab14",
   "metadata": {},
   "outputs": [
    {
     "data": {
      "text/plain": [
       "('t5-large-ai-detector/tokenizer_config.json',\n",
       " 't5-large-ai-detector/special_tokens_map.json',\n",
       " 't5-large-ai-detector/spiece.model',\n",
       " 't5-large-ai-detector/added_tokens.json')"
      ]
     },
     "execution_count": 7,
     "metadata": {},
     "output_type": "execute_result"
    }
   ],
   "source": [
    "model.save_pretrained(\"t5-large-ai-detector\")\n",
    "tokenizer.save_pretrained(\"t5-large-ai-detector\")\n"
   ]
  },
  {
   "cell_type": "markdown",
   "id": "b280ffa7",
   "metadata": {},
   "source": [
    "# eval"
   ]
  },
  {
   "cell_type": "code",
   "execution_count": 4,
   "id": "d2073dcf",
   "metadata": {},
   "outputs": [],
   "source": [
    "from transformers import T5ForSequenceClassification, T5Tokenizer\n",
    "import torch\n",
    "\n",
    "device = torch.device(\"cuda\" if torch.cuda.is_available() else \"cpu\")\n",
    "\n",
    "# Load model and tokenizer from the saved directory\n",
    "model = T5ForSequenceClassification.from_pretrained(\"t5-large-ai-detector\").to(device)\n",
    "tokenizer = T5Tokenizer.from_pretrained(\"t5-large-ai-detector\")\n",
    "\n",
    "# Predict\n",
    "model.eval()\n",
    "preds = []"
   ]
  },
  {
   "cell_type": "code",
   "execution_count": 5,
   "id": "1022a4a1",
   "metadata": {},
   "outputs": [
    {
     "name": "stderr",
     "output_type": "stream",
     "text": [
      "Evaluating arxiv_chatGPT.jsonl:   0%|          | 0/750 [00:00<?, ?it/s]Passing a tuple of `past_key_values` is deprecated and will be removed in Transformers v4.48.0. You should pass an instance of `EncoderDecoderCache` instead, e.g. `past_key_values=EncoderDecoderCache.from_legacy_cache(past_key_values)`.\n",
      "Evaluating arxiv_chatGPT.jsonl: 100%|██████████| 750/750 [04:33<00:00,  2.74it/s]\n"
     ]
    },
    {
     "name": "stdout",
     "output_type": "stream",
     "text": [
      "\n",
      "===== Results for arxiv_chatGPT.jsonl =====\n",
      "               precision    recall  f1-score   support\n",
      "\n",
      " AI-generated       0.99      0.87      0.93      3000\n",
      "Human-written       0.88      0.99      0.93      3000\n",
      "\n",
      "     accuracy                           0.93      6000\n",
      "    macro avg       0.94      0.93      0.93      6000\n",
      " weighted avg       0.94      0.93      0.93      6000\n",
      "\n"
     ]
    },
    {
     "name": "stderr",
     "output_type": "stream",
     "text": [
      "Evaluating arxiv_cohere.jsonl: 100%|██████████| 750/750 [04:43<00:00,  2.65it/s]\n"
     ]
    },
    {
     "name": "stdout",
     "output_type": "stream",
     "text": [
      "\n",
      "===== Results for arxiv_cohere.jsonl =====\n",
      "               precision    recall  f1-score   support\n",
      "\n",
      " AI-generated       0.99      0.52      0.69      3000\n",
      "Human-written       0.68      0.99      0.81      3000\n",
      "\n",
      "     accuracy                           0.76      6000\n",
      "    macro avg       0.83      0.76      0.75      6000\n",
      " weighted avg       0.83      0.76      0.75      6000\n",
      "\n"
     ]
    },
    {
     "name": "stderr",
     "output_type": "stream",
     "text": [
      "Evaluating reddit_chatGPT.jsonl: 100%|██████████| 750/750 [04:45<00:00,  2.63it/s]\n"
     ]
    },
    {
     "name": "stdout",
     "output_type": "stream",
     "text": [
      "\n",
      "===== Results for reddit_chatGPT.jsonl =====\n",
      "               precision    recall  f1-score   support\n",
      "\n",
      " AI-generated       0.99      0.98      0.98      3000\n",
      "Human-written       0.98      0.99      0.98      3000\n",
      "\n",
      "     accuracy                           0.98      6000\n",
      "    macro avg       0.98      0.98      0.98      6000\n",
      " weighted avg       0.98      0.98      0.98      6000\n",
      "\n"
     ]
    },
    {
     "name": "stderr",
     "output_type": "stream",
     "text": [
      "Evaluating reddit_cohere.jsonl: 100%|██████████| 750/750 [03:31<00:00,  3.54it/s]\n"
     ]
    },
    {
     "name": "stdout",
     "output_type": "stream",
     "text": [
      "\n",
      "===== Results for reddit_cohere.jsonl =====\n",
      "               precision    recall  f1-score   support\n",
      "\n",
      " AI-generated       0.99      0.95      0.97      3000\n",
      "Human-written       0.96      0.99      0.97      3000\n",
      "\n",
      "     accuracy                           0.97      6000\n",
      "    macro avg       0.97      0.97      0.97      6000\n",
      " weighted avg       0.97      0.97      0.97      6000\n",
      "\n"
     ]
    },
    {
     "name": "stderr",
     "output_type": "stream",
     "text": [
      "Evaluating german_wikipedia.jsonl: 100%|██████████| 125/125 [00:47<00:00,  2.63it/s]\n"
     ]
    },
    {
     "name": "stdout",
     "output_type": "stream",
     "text": [
      "\n",
      "===== Results for german_wikipedia.jsonl =====\n",
      "               precision    recall  f1-score   support\n",
      "\n",
      " AI-generated       0.25      0.00      0.00       500\n",
      "Human-written       0.50      0.99      0.66       500\n",
      "\n",
      "     accuracy                           0.50      1000\n",
      "    macro avg       0.37      0.50      0.33      1000\n",
      " weighted avg       0.37      0.50      0.33      1000\n",
      "\n"
     ]
    },
    {
     "name": "stderr",
     "output_type": "stream",
     "text": [
      "Evaluating hewlett.json: 100%|██████████| 11/11 [00:04<00:00,  2.62it/s]\n",
      "/home/sneha/venv/lib/python3.8/site-packages/sklearn/metrics/_classification.py:1471: UndefinedMetricWarning: Recall and F-score are ill-defined and being set to 0.0 in labels with no true samples. Use `zero_division` parameter to control this behavior.\n",
      "  _warn_prf(average, modifier, msg_start, len(result))\n",
      "/home/sneha/venv/lib/python3.8/site-packages/sklearn/metrics/_classification.py:1471: UndefinedMetricWarning: Recall and F-score are ill-defined and being set to 0.0 in labels with no true samples. Use `zero_division` parameter to control this behavior.\n",
      "  _warn_prf(average, modifier, msg_start, len(result))\n",
      "/home/sneha/venv/lib/python3.8/site-packages/sklearn/metrics/_classification.py:1471: UndefinedMetricWarning: Recall and F-score are ill-defined and being set to 0.0 in labels with no true samples. Use `zero_division` parameter to control this behavior.\n",
      "  _warn_prf(average, modifier, msg_start, len(result))\n"
     ]
    },
    {
     "name": "stdout",
     "output_type": "stream",
     "text": [
      "\n",
      "===== Results for hewlett.json =====\n",
      "               precision    recall  f1-score   support\n",
      "\n",
      " AI-generated       0.00      0.00      0.00         0\n",
      "Human-written       1.00      0.95      0.98        88\n",
      "\n",
      "     accuracy                           0.95        88\n",
      "    macro avg       0.50      0.48      0.49        88\n",
      " weighted avg       1.00      0.95      0.98        88\n",
      "\n"
     ]
    },
    {
     "name": "stderr",
     "output_type": "stream",
     "text": [
      "Evaluating toefl.json: 100%|██████████| 12/12 [00:02<00:00,  4.23it/s]"
     ]
    },
    {
     "name": "stdout",
     "output_type": "stream",
     "text": [
      "\n",
      "===== Results for toefl.json =====\n",
      "               precision    recall  f1-score   support\n",
      "\n",
      " AI-generated       0.00      0.00      0.00         0\n",
      "Human-written       1.00      0.70      0.83        91\n",
      "\n",
      "     accuracy                           0.70        91\n",
      "    macro avg       0.50      0.35      0.41        91\n",
      " weighted avg       1.00      0.70      0.83        91\n",
      "\n"
     ]
    },
    {
     "name": "stderr",
     "output_type": "stream",
     "text": [
      "\n",
      "/home/sneha/venv/lib/python3.8/site-packages/sklearn/metrics/_classification.py:1471: UndefinedMetricWarning: Recall and F-score are ill-defined and being set to 0.0 in labels with no true samples. Use `zero_division` parameter to control this behavior.\n",
      "  _warn_prf(average, modifier, msg_start, len(result))\n",
      "/home/sneha/venv/lib/python3.8/site-packages/sklearn/metrics/_classification.py:1471: UndefinedMetricWarning: Recall and F-score are ill-defined and being set to 0.0 in labels with no true samples. Use `zero_division` parameter to control this behavior.\n",
      "  _warn_prf(average, modifier, msg_start, len(result))\n",
      "/home/sneha/venv/lib/python3.8/site-packages/sklearn/metrics/_classification.py:1471: UndefinedMetricWarning: Recall and F-score are ill-defined and being set to 0.0 in labels with no true samples. Use `zero_division` parameter to control this behavior.\n",
      "  _warn_prf(average, modifier, msg_start, len(result))\n"
     ]
    }
   ],
   "source": [
    "import os\n",
    "import json\n",
    "import jsonlines\n",
    "import torch\n",
    "from transformers import T5ForSequenceClassification, T5Tokenizer\n",
    "from sklearn.metrics import classification_report\n",
    "from tqdm import tqdm\n",
    "\n",
    "# Directory containing eval files\n",
    "dev_dir = \"cs162-final-dev-main\"\n",
    "\n",
    "# File list (add more files here if needed)\n",
    "files = [\n",
    "    \"arxiv_chatGPT.jsonl\",\n",
    "    \"arxiv_cohere.jsonl\",\n",
    "    \"reddit_chatGPT.jsonl\",\n",
    "    \"reddit_cohere.jsonl\",\n",
    "    \"german_wikipedia.jsonl\",\n",
    "    \"hewlett.json\",\n",
    "    \"toefl.json\"\n",
    "]\n",
    "\n",
    "# Main evaluation loop\n",
    "for filename in files:\n",
    "    file_path = os.path.join(dev_dir, filename)\n",
    "    texts, true_labels = [], []\n",
    "\n",
    "    if filename.endswith(\".jsonl\"):\n",
    "        # Handle jsonlines files\n",
    "        human_texts, machine_texts = [], []\n",
    "        with jsonlines.open(file_path) as reader:\n",
    "            for row in reader:\n",
    "                human_texts.append(row[\"human_text\"])\n",
    "                machine_texts.append(row[\"machine_text\"])\n",
    "        texts = human_texts + machine_texts\n",
    "        true_labels = [1] * len(human_texts) + [0] * len(machine_texts)\n",
    "\n",
    "    elif filename.endswith(\".json\"):\n",
    "        # Handle full json files (hewlett, toefl)\n",
    "        with open(file_path, 'r') as f:\n",
    "            data = json.load(f)\n",
    "            texts = [entry[\"document\"] for entry in data]\n",
    "            true_labels = [1] * len(texts)  # All human-labeled\n",
    "\n",
    "    else:\n",
    "        print(f\"Skipping unsupported file type: {filename}\")\n",
    "        continue\n",
    "\n",
    "    # Inference\n",
    "    preds = []\n",
    "    model.eval()\n",
    "    with torch.no_grad():\n",
    "        for i in tqdm(range(0, len(texts), 8), desc=f\"Evaluating {filename}\"):\n",
    "            batch = texts[i:i+8]\n",
    "            encodings = tokenizer(batch, return_tensors=\"pt\", padding=True, truncation=True, max_length=256)\n",
    "            input_ids = encodings[\"input_ids\"].to(device)\n",
    "            attention_mask = encodings[\"attention_mask\"].to(device)\n",
    "            outputs = model(input_ids=input_ids, attention_mask=attention_mask)\n",
    "            batch_preds = torch.argmax(outputs.logits, dim=1).tolist()\n",
    "            preds.extend(batch_preds)\n",
    "\n",
    "    # Print evaluation result\n",
    "    print(f\"\\n===== Results for {filename} =====\")\n",
    "    print(classification_report(true_labels, preds, target_names=[\"AI-generated\", \"Human-written\"]))\n"
   ]
  }
 ],
 "metadata": {
  "kernelspec": {
   "display_name": "venv",
   "language": "python",
   "name": "python3"
  },
  "language_info": {
   "codemirror_mode": {
    "name": "ipython",
    "version": 3
   },
   "file_extension": ".py",
   "mimetype": "text/x-python",
   "name": "python",
   "nbconvert_exporter": "python",
   "pygments_lexer": "ipython3",
   "version": "3.8.10"
  }
 },
 "nbformat": 4,
 "nbformat_minor": 5
}
