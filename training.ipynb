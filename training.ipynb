{
 "cells": [
  {
   "cell_type": "code",
   "execution_count": 2,
   "metadata": {},
   "outputs": [
    {
     "data": {
      "text/html": [
       "<div>\n",
       "<style scoped>\n",
       "    .dataframe tbody tr th:only-of-type {\n",
       "        vertical-align: middle;\n",
       "    }\n",
       "\n",
       "    .dataframe tbody tr th {\n",
       "        vertical-align: top;\n",
       "    }\n",
       "\n",
       "    .dataframe thead th {\n",
       "        text-align: right;\n",
       "    }\n",
       "</style>\n",
       "<table border=\"1\" class=\"dataframe\">\n",
       "  <thead>\n",
       "    <tr style=\"text-align: right;\">\n",
       "      <th></th>\n",
       "      <th>text</th>\n",
       "      <th>generated</th>\n",
       "    </tr>\n",
       "  </thead>\n",
       "  <tbody>\n",
       "    <tr>\n",
       "      <th>0</th>\n",
       "      <td>Cars. Cars have been around since they became ...</td>\n",
       "      <td>0.0</td>\n",
       "    </tr>\n",
       "    <tr>\n",
       "      <th>1</th>\n",
       "      <td>Transportation is a large necessity in most co...</td>\n",
       "      <td>0.0</td>\n",
       "    </tr>\n",
       "    <tr>\n",
       "      <th>2</th>\n",
       "      <td>\"America's love affair with it's vehicles seem...</td>\n",
       "      <td>0.0</td>\n",
       "    </tr>\n",
       "    <tr>\n",
       "      <th>3</th>\n",
       "      <td>How often do you ride in a car? Do you drive a...</td>\n",
       "      <td>0.0</td>\n",
       "    </tr>\n",
       "    <tr>\n",
       "      <th>4</th>\n",
       "      <td>Cars are a wonderful thing. They are perhaps o...</td>\n",
       "      <td>0.0</td>\n",
       "    </tr>\n",
       "  </tbody>\n",
       "</table>\n",
       "</div>"
      ],
      "text/plain": [
       "                                                text  generated\n",
       "0  Cars. Cars have been around since they became ...        0.0\n",
       "1  Transportation is a large necessity in most co...        0.0\n",
       "2  \"America's love affair with it's vehicles seem...        0.0\n",
       "3  How often do you ride in a car? Do you drive a...        0.0\n",
       "4  Cars are a wonderful thing. They are perhaps o...        0.0"
      ]
     },
     "execution_count": 2,
     "metadata": {},
     "output_type": "execute_result"
    }
   ],
   "source": [
    "import pandas as pd\n",
    "\n",
    "df = pd.read_csv(\"data/AI_Human.csv\")\n",
    "df = df.dropna()\n",
    "df.head()"
   ]
  },
  {
   "cell_type": "code",
   "execution_count": 3,
   "metadata": {},
   "outputs": [
    {
     "name": "stdout",
     "output_type": "stream",
     "text": [
      "Requirement already satisfied: datasets in /home/sneha/venv/lib/python3.8/site-packages (3.1.0)\n",
      "Requirement already satisfied: dill<0.3.9,>=0.3.0 in /home/sneha/venv/lib/python3.8/site-packages (from datasets) (0.3.8)\n",
      "Requirement already satisfied: huggingface-hub>=0.23.0 in /home/sneha/venv/lib/python3.8/site-packages (from datasets) (0.31.4)\n",
      "Requirement already satisfied: xxhash in /home/sneha/venv/lib/python3.8/site-packages (from datasets) (3.5.0)\n",
      "Requirement already satisfied: packaging in /home/sneha/venv/lib/python3.8/site-packages (from datasets) (25.0)\n",
      "Requirement already satisfied: pyarrow>=15.0.0 in /home/sneha/venv/lib/python3.8/site-packages (from datasets) (17.0.0)\n",
      "Requirement already satisfied: filelock in /home/sneha/venv/lib/python3.8/site-packages (from datasets) (3.16.1)\n",
      "Requirement already satisfied: pyyaml>=5.1 in /home/sneha/venv/lib/python3.8/site-packages (from datasets) (6.0.2)\n",
      "Requirement already satisfied: multiprocess<0.70.17 in /home/sneha/venv/lib/python3.8/site-packages (from datasets) (0.70.16)\n",
      "Requirement already satisfied: pandas in /home/sneha/venv/lib/python3.8/site-packages (from datasets) (2.0.3)\n",
      "Requirement already satisfied: requests>=2.32.2 in /home/sneha/venv/lib/python3.8/site-packages (from datasets) (2.32.3)\n",
      "Requirement already satisfied: fsspec[http]<=2024.9.0,>=2023.1.0 in /home/sneha/venv/lib/python3.8/site-packages (from datasets) (2024.9.0)\n",
      "Requirement already satisfied: tqdm>=4.66.3 in /home/sneha/venv/lib/python3.8/site-packages (from datasets) (4.67.1)\n",
      "Requirement already satisfied: aiohttp in /home/sneha/venv/lib/python3.8/site-packages (from datasets) (3.10.11)\n",
      "Requirement already satisfied: numpy>=1.17 in /home/sneha/venv/lib/python3.8/site-packages (from datasets) (1.24.4)\n",
      "Requirement already satisfied: typing-extensions>=3.7.4.3 in /home/sneha/venv/lib/python3.8/site-packages (from huggingface-hub>=0.23.0->datasets) (4.13.2)\n",
      "Requirement already satisfied: python-dateutil>=2.8.2 in /home/sneha/venv/lib/python3.8/site-packages (from pandas->datasets) (2.9.0.post0)\n",
      "Requirement already satisfied: pytz>=2020.1 in /home/sneha/venv/lib/python3.8/site-packages (from pandas->datasets) (2025.2)\n",
      "Requirement already satisfied: tzdata>=2022.1 in /home/sneha/venv/lib/python3.8/site-packages (from pandas->datasets) (2025.2)\n",
      "Requirement already satisfied: charset-normalizer<4,>=2 in /home/sneha/venv/lib/python3.8/site-packages (from requests>=2.32.2->datasets) (3.4.2)\n",
      "Requirement already satisfied: certifi>=2017.4.17 in /home/sneha/venv/lib/python3.8/site-packages (from requests>=2.32.2->datasets) (2025.4.26)\n",
      "Requirement already satisfied: urllib3<3,>=1.21.1 in /home/sneha/venv/lib/python3.8/site-packages (from requests>=2.32.2->datasets) (2.2.3)\n",
      "Requirement already satisfied: idna<4,>=2.5 in /home/sneha/venv/lib/python3.8/site-packages (from requests>=2.32.2->datasets) (3.10)\n",
      "Requirement already satisfied: aiohappyeyeballs>=2.3.0 in /home/sneha/venv/lib/python3.8/site-packages (from aiohttp->datasets) (2.4.4)\n",
      "Requirement already satisfied: frozenlist>=1.1.1 in /home/sneha/venv/lib/python3.8/site-packages (from aiohttp->datasets) (1.5.0)\n",
      "Requirement already satisfied: attrs>=17.3.0 in /home/sneha/venv/lib/python3.8/site-packages (from aiohttp->datasets) (25.3.0)\n",
      "Requirement already satisfied: aiosignal>=1.1.2 in /home/sneha/venv/lib/python3.8/site-packages (from aiohttp->datasets) (1.3.1)\n",
      "Requirement already satisfied: yarl<2.0,>=1.12.0 in /home/sneha/venv/lib/python3.8/site-packages (from aiohttp->datasets) (1.15.2)\n",
      "Requirement already satisfied: async-timeout<6.0,>=4.0; python_version < \"3.11\" in /home/sneha/venv/lib/python3.8/site-packages (from aiohttp->datasets) (5.0.1)\n",
      "Requirement already satisfied: multidict<7.0,>=4.5 in /home/sneha/venv/lib/python3.8/site-packages (from aiohttp->datasets) (6.1.0)\n",
      "Requirement already satisfied: six>=1.5 in /home/sneha/venv/lib/python3.8/site-packages (from python-dateutil>=2.8.2->pandas->datasets) (1.17.0)\n",
      "Requirement already satisfied: propcache>=0.2.0 in /home/sneha/venv/lib/python3.8/site-packages (from yarl<2.0,>=1.12.0->aiohttp->datasets) (0.2.0)\n"
     ]
    }
   ],
   "source": [
    "!pip install datasets"
   ]
  },
  {
   "cell_type": "code",
   "execution_count": 4,
   "metadata": {},
   "outputs": [
    {
     "name": "stderr",
     "output_type": "stream",
     "text": [
      "/home/sneha/venv/lib/python3.8/site-packages/tqdm/auto.py:21: TqdmWarning: IProgress not found. Please update jupyter and ipywidgets. See https://ipywidgets.readthedocs.io/en/stable/user_install.html\n",
      "  from .autonotebook import tqdm as notebook_tqdm\n"
     ]
    }
   ],
   "source": [
    "from datasets import load_dataset\n",
    "\n",
    "ds = load_dataset(\"Hello-SimpleAI/HC3\", \"all\")"
   ]
  },
  {
   "cell_type": "code",
   "execution_count": 5,
   "metadata": {},
   "outputs": [
    {
     "name": "stdout",
     "output_type": "stream",
     "text": [
      "Samples: 85449\n"
     ]
    }
   ],
   "source": [
    "# Extract and label data\n",
    "rows = []\n",
    "for entry in ds[\"train\"]:\n",
    "    for a in entry[\"chatgpt_answers\"]:\n",
    "        rows.append({\"text\": a.strip(), \"label\": 0})  # AI\n",
    "    for a in entry[\"human_answers\"]:\n",
    "        rows.append({\"text\": a.strip(), \"label\": 1})  # Human\n",
    "\n",
    "df = pd.DataFrame(rows).dropna()\n",
    "print(f\"Samples: {len(df)}\")"
   ]
  },
  {
   "cell_type": "code",
   "execution_count": 6,
   "metadata": {},
   "outputs": [],
   "source": [
    "\n",
    "# Balance classes\n",
    "min_class = df['label'].value_counts().min()\n",
    "df_balanced = pd.concat([\n",
    "    df[df['label'] == 0].sample(min_class),\n",
    "    df[df['label'] == 1].sample(min_class)\n",
    "]).sample(frac=1).reset_index(drop=True)"
   ]
  },
  {
   "cell_type": "code",
   "execution_count": 7,
   "metadata": {},
   "outputs": [],
   "source": [
    "# Tokenization + Dataset Prep\n",
    "from transformers import RobertaTokenizer, RobertaForSequenceClassification\n",
    "from torch.utils.data import Dataset, DataLoader\n",
    "import torch\n",
    "\n",
    "tokenizer = RobertaTokenizer.from_pretrained(\"roberta-base\")\n",
    "\n",
    "class HC3Dataset(Dataset):\n",
    "    def __init__(self, texts, labels, tokenizer, max_len=256):\n",
    "        self.encodings = tokenizer(texts, truncation=True, padding=True, max_length=max_len)\n",
    "        self.labels = labels\n",
    "\n",
    "    def __len__(self): return len(self.labels)\n",
    "\n",
    "    def __getitem__(self, idx):\n",
    "        item = {k: torch.tensor(v[idx]) for k, v in self.encodings.items()}\n",
    "        item['labels'] = torch.tensor(self.labels[idx])\n",
    "        return item\n",
    "\n",
    "train_dataset = HC3Dataset(df_balanced['text'].tolist(), df_balanced['label'].tolist(), tokenizer)\n",
    "train_loader = DataLoader(train_dataset, batch_size=8, shuffle=True)"
   ]
  },
  {
   "cell_type": "code",
   "execution_count": 8,
   "metadata": {},
   "outputs": [
    {
     "name": "stderr",
     "output_type": "stream",
     "text": [
      "Some weights of RobertaForSequenceClassification were not initialized from the model checkpoint at roberta-base and are newly initialized: ['classifier.dense.bias', 'classifier.dense.weight', 'classifier.out_proj.bias', 'classifier.out_proj.weight']\n",
      "You should probably TRAIN this model on a down-stream task to be able to use it for predictions and inference.\n",
      "/home/sneha/venv/lib/python3.8/site-packages/transformers/optimization.py:591: FutureWarning: This implementation of AdamW is deprecated and will be removed in a future version. Use the PyTorch implementation torch.optim.AdamW instead, or set `no_deprecation_warning=True` to disable this warning\n",
      "  warnings.warn(\n",
      "100%|██████████| 6726/6726 [16:55<00:00,  6.62it/s]\n"
     ]
    },
    {
     "name": "stdout",
     "output_type": "stream",
     "text": [
      "Epoch 1 Loss: 140.2325\n"
     ]
    },
    {
     "name": "stderr",
     "output_type": "stream",
     "text": [
      "100%|██████████| 6726/6726 [14:55<00:00,  7.51it/s]\n"
     ]
    },
    {
     "name": "stdout",
     "output_type": "stream",
     "text": [
      "Epoch 2 Loss: 56.9258\n"
     ]
    },
    {
     "name": "stderr",
     "output_type": "stream",
     "text": [
      "100%|██████████| 6726/6726 [14:54<00:00,  7.52it/s]"
     ]
    },
    {
     "name": "stdout",
     "output_type": "stream",
     "text": [
      "Epoch 3 Loss: 54.3202\n"
     ]
    },
    {
     "name": "stderr",
     "output_type": "stream",
     "text": [
      "\n"
     ]
    }
   ],
   "source": [
    "# Train the RoBERTa Classifier\n",
    "model = RobertaForSequenceClassification.from_pretrained(\"roberta-base\", num_labels=2)\n",
    "device = torch.device(\"cuda\" if torch.cuda.is_available() else \"cpu\")\n",
    "model.to(device)\n",
    "\n",
    "from transformers import AdamW\n",
    "from tqdm import tqdm\n",
    "\n",
    "optimizer = AdamW(model.parameters(), lr=2e-5)\n",
    "\n",
    "model.train()\n",
    "for epoch in range(3):\n",
    "    total_loss = 0\n",
    "    for batch in tqdm(train_loader):\n",
    "        batch = {k: v.to(device) for k, v in batch.items()}\n",
    "        outputs = model(**batch)\n",
    "        loss = outputs.loss\n",
    "        total_loss += loss.item()\n",
    "        loss.backward()\n",
    "        optimizer.step()\n",
    "        optimizer.zero_grad()\n",
    "    print(f\"Epoch {epoch + 1} Loss: {total_loss:.4f}\")"
   ]
  },
  {
   "cell_type": "code",
   "execution_count": 10,
   "metadata": {},
   "outputs": [
    {
     "name": "stdout",
     "output_type": "stream",
     "text": [
      "Collecting jsonlines\n",
      "  Downloading jsonlines-4.0.0-py3-none-any.whl (8.7 kB)\n",
      "Requirement already satisfied: attrs>=19.2.0 in /home/sneha/venv/lib/python3.8/site-packages (from jsonlines) (25.3.0)\n",
      "Installing collected packages: jsonlines\n",
      "Successfully installed jsonlines-4.0.0\n"
     ]
    }
   ],
   "source": [
    "!pip install jsonlines"
   ]
  },
  {
   "cell_type": "code",
   "execution_count": 12,
   "metadata": {},
   "outputs": [
    {
     "name": "stdout",
     "output_type": "stream",
     "text": [
      "Collecting scikit-learn\n",
      "  Downloading scikit_learn-1.3.2-cp38-cp38-manylinux_2_17_x86_64.manylinux2014_x86_64.whl (11.1 MB)\n",
      "\u001b[K     |████████████████████████████████| 11.1 MB 31.3 MB/s eta 0:00:01\n",
      "\u001b[?25hCollecting joblib>=1.1.1\n",
      "  Downloading joblib-1.4.2-py3-none-any.whl (301 kB)\n",
      "\u001b[K     |████████████████████████████████| 301 kB 103.2 MB/s eta 0:00:01\n",
      "\u001b[?25hRequirement already satisfied: numpy<2.0,>=1.17.3 in /home/sneha/venv/lib/python3.8/site-packages (from scikit-learn) (1.24.4)\n",
      "Collecting threadpoolctl>=2.0.0\n",
      "  Downloading threadpoolctl-3.5.0-py3-none-any.whl (18 kB)\n",
      "Collecting scipy>=1.5.0\n",
      "  Downloading scipy-1.10.1-cp38-cp38-manylinux_2_17_x86_64.manylinux2014_x86_64.whl (34.5 MB)\n",
      "\u001b[K     |████████████████████████████████| 34.5 MB 94.4 MB/s eta 0:00:01\n",
      "\u001b[?25hInstalling collected packages: joblib, threadpoolctl, scipy, scikit-learn\n",
      "Successfully installed joblib-1.4.2 scikit-learn-1.3.2 scipy-1.10.1 threadpoolctl-3.5.0\n"
     ]
    }
   ],
   "source": [
    "!pip install scikit-learn"
   ]
  },
  {
   "cell_type": "code",
   "execution_count": 13,
   "metadata": {},
   "outputs": [
    {
     "name": "stderr",
     "output_type": "stream",
     "text": [
      "100%|██████████| 3000/3000 [02:11<00:00, 22.84it/s] \n"
     ]
    },
    {
     "name": "stdout",
     "output_type": "stream",
     "text": [
      "               precision    recall  f1-score   support\n",
      "\n",
      " AI-generated       0.76      0.94      0.84     12000\n",
      "Human-written       0.93      0.70      0.79     12000\n",
      "\n",
      "     accuracy                           0.82     24000\n",
      "    macro avg       0.84      0.82      0.82     24000\n",
      " weighted avg       0.84      0.82      0.82     24000\n",
      "\n"
     ]
    }
   ],
   "source": [
    "import os\n",
    "import jsonlines\n",
    "import torch\n",
    "from sklearn.metrics import classification_report\n",
    "from transformers import RobertaTokenizer\n",
    "from tqdm import tqdm\n",
    "\n",
    "dev_dir = \"cs162-final-dev-main\"\n",
    "device = torch.device(\"cuda\" if torch.cuda.is_available() else \"cpu\")\n",
    "human_texts, machine_texts = [], []\n",
    "\n",
    "for filename in os.listdir(dev_dir):\n",
    "    if filename.endswith(\".jsonl\"):\n",
    "        file_path = os.path.join(dev_dir, filename)\n",
    "        with jsonlines.open(file_path) as reader:\n",
    "            for row in reader:\n",
    "                human_texts.append(row[\"human_text\"])\n",
    "                machine_texts.append(row[\"machine_text\"])\n",
    "\n",
    "test_texts = human_texts + machine_texts\n",
    "true_labels = [1] * len(human_texts) + [0] * len(machine_texts)\n",
    "\n",
    "# Load tokenizer\n",
    "tokenizer = RobertaTokenizer.from_pretrained(\"roberta-base\")\n",
    "\n",
    "# Predict\n",
    "model.eval()\n",
    "preds = []\n",
    "\n",
    "with torch.no_grad():\n",
    "    for i in tqdm(range(0, len(test_texts), 8)):\n",
    "        batch = test_texts[i:i+8]\n",
    "        encodings = tokenizer(batch, return_tensors=\"pt\", padding=True, truncation=True, max_length=256)\n",
    "        input_ids = encodings[\"input_ids\"].to(device)\n",
    "        attention_mask = encodings[\"attention_mask\"].to(device)\n",
    "        outputs = model(input_ids=input_ids, attention_mask=attention_mask)\n",
    "        batch_preds = torch.argmax(outputs.logits, dim=1).tolist()\n",
    "        preds.extend(batch_preds)\n",
    "\n",
    "# Evaluate\n",
    "from sklearn.metrics import classification_report\n",
    "\n",
    "print(classification_report(true_labels, preds, target_names=[\"AI-generated\", \"Human-written\"]))"
   ]
  },
  {
   "cell_type": "code",
   "execution_count": 14,
   "metadata": {},
   "outputs": [
    {
     "data": {
      "text/plain": [
       "('initial-roberta-ai-detector/tokenizer_config.json',\n",
       " 'initial-roberta-ai-detector/special_tokens_map.json',\n",
       " 'initial-roberta-ai-detector/vocab.json',\n",
       " 'initial-roberta-ai-detector/merges.txt',\n",
       " 'initial-roberta-ai-detector/added_tokens.json')"
      ]
     },
     "execution_count": 14,
     "metadata": {},
     "output_type": "execute_result"
    }
   ],
   "source": [
    "model.save_pretrained(\"initial-roberta-ai-detector\")\n",
    "tokenizer.save_pretrained(\"initial-roberta-ai-detector\")"
   ]
  },
  {
   "cell_type": "markdown",
   "metadata": {},
   "source": []
  }
 ],
 "metadata": {
  "kernelspec": {
   "display_name": "Python (venv)",
   "language": "python",
   "name": "venv"
  },
  "language_info": {
   "codemirror_mode": {
    "name": "ipython",
    "version": 3
   },
   "file_extension": ".py",
   "mimetype": "text/x-python",
   "name": "python",
   "nbconvert_exporter": "python",
   "pygments_lexer": "ipython3",
   "version": "3.8.10"
  }
 },
 "nbformat": 4,
 "nbformat_minor": 2
}
