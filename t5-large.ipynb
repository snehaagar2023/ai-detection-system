{
 "cells": [
  {
   "cell_type": "markdown",
   "id": "c20865c2",
   "metadata": {},
   "source": [
    "# configure data"
   ]
  },
  {
   "cell_type": "code",
   "execution_count": 1,
   "id": "e892ab64",
   "metadata": {},
   "outputs": [
    {
     "name": "stderr",
     "output_type": "stream",
     "text": [
      "/home/sneha/venv/lib/python3.8/site-packages/tqdm/auto.py:21: TqdmWarning: IProgress not found. Please update jupyter and ipywidgets. See https://ipywidgets.readthedocs.io/en/stable/user_install.html\n",
      "  from .autonotebook import tqdm as notebook_tqdm\n"
     ]
    },
    {
     "name": "stdout",
     "output_type": "stream",
     "text": [
      "Samples: 85449\n"
     ]
    },
    {
     "data": {
      "text/html": [
       "<div>\n",
       "<style scoped>\n",
       "    .dataframe tbody tr th:only-of-type {\n",
       "        vertical-align: middle;\n",
       "    }\n",
       "\n",
       "    .dataframe tbody tr th {\n",
       "        vertical-align: top;\n",
       "    }\n",
       "\n",
       "    .dataframe thead th {\n",
       "        text-align: right;\n",
       "    }\n",
       "</style>\n",
       "<table border=\"1\" class=\"dataframe\">\n",
       "  <thead>\n",
       "    <tr style=\"text-align: right;\">\n",
       "      <th></th>\n",
       "      <th>text</th>\n",
       "      <th>label</th>\n",
       "    </tr>\n",
       "  </thead>\n",
       "  <tbody>\n",
       "    <tr>\n",
       "      <th>0</th>\n",
       "      <td>There are many different best seller lists tha...</td>\n",
       "      <td>0</td>\n",
       "    </tr>\n",
       "    <tr>\n",
       "      <th>1</th>\n",
       "      <td>Basically there are many categories of \" Best ...</td>\n",
       "      <td>1</td>\n",
       "    </tr>\n",
       "    <tr>\n",
       "      <th>2</th>\n",
       "      <td>If you 're hearing about it , it 's because it...</td>\n",
       "      <td>1</td>\n",
       "    </tr>\n",
       "    <tr>\n",
       "      <th>3</th>\n",
       "      <td>One reason is lots of catagories . However , h...</td>\n",
       "      <td>1</td>\n",
       "    </tr>\n",
       "    <tr>\n",
       "      <th>4</th>\n",
       "      <td>Salt is used on roads to help melt ice and sno...</td>\n",
       "      <td>0</td>\n",
       "    </tr>\n",
       "  </tbody>\n",
       "</table>\n",
       "</div>"
      ],
      "text/plain": [
       "                                                text  label\n",
       "0  There are many different best seller lists tha...      0\n",
       "1  Basically there are many categories of \" Best ...      1\n",
       "2  If you 're hearing about it , it 's because it...      1\n",
       "3  One reason is lots of catagories . However , h...      1\n",
       "4  Salt is used on roads to help melt ice and sno...      0"
      ]
     },
     "execution_count": 1,
     "metadata": {},
     "output_type": "execute_result"
    }
   ],
   "source": [
    "import pandas as pd\n",
    "from datasets import load_dataset\n",
    "\n",
    "ds = load_dataset(\"Hello-SimpleAI/HC3\", \"all\")\n",
    "\n",
    "# Extract and label data for the Hugging Face dataset\n",
    "rows = []\n",
    "for entry in ds[\"train\"]:\n",
    "    for a in entry[\"chatgpt_answers\"]:\n",
    "        rows.append({\"text\": a.strip(), \"label\": 0})  # AI\n",
    "    for a in entry[\"human_answers\"]:\n",
    "        rows.append({\"text\": a.strip(), \"label\": 1})  # Human\n",
    "\n",
    "df = pd.DataFrame(rows).dropna()\n",
    "print(f\"Samples: {len(df)}\")\n",
    "df.head()"
   ]
  },
  {
   "cell_type": "code",
   "execution_count": 2,
   "id": "bc1f8e9c",
   "metadata": {},
   "outputs": [],
   "source": [
    "# Balance classes\n",
    "min_class = df['label'].value_counts().min()\n",
    "data_balanced = pd.concat([\n",
    "    df[df['label'] == 0].sample(min_class),\n",
    "    df[df['label'] == 1].sample(min_class)\n",
    "]).sample(frac=1).reset_index(drop=True)"
   ]
  },
  {
   "cell_type": "code",
   "execution_count": 3,
   "id": "6119bd35",
   "metadata": {},
   "outputs": [
    {
     "name": "stderr",
     "output_type": "stream",
     "text": [
      "You are using the default legacy behaviour of the <class 'transformers.models.t5.tokenization_t5.T5Tokenizer'>. This is expected, and simply means that the `legacy` (previous) behavior will be used so nothing changes for you. If you want to use the new behaviour, set `legacy=False`. This should only be set if you understand what it means, and thoroughly read the reason why this was added as explained in https://github.com/huggingface/transformers/pull/24565\n"
     ]
    }
   ],
   "source": [
    "# Tokenization + Dataset Prep\n",
    "from transformers import T5Tokenizer, T5ForSequenceClassification\n",
    "from torch.utils.data import Dataset, DataLoader\n",
    "import torch\n",
    "\n",
    "tokenizer = T5Tokenizer.from_pretrained(\"t5-large\")\n",
    "\n",
    "class CombinedDataset(Dataset):\n",
    "    def __init__(self, texts, labels, tokenizer, max_len=256):\n",
    "        self.encodings = tokenizer(texts, truncation=True, padding=True, max_length=max_len)\n",
    "        self.labels = labels\n",
    "\n",
    "    def __len__(self): return len(self.labels)\n",
    "\n",
    "    def __getitem__(self, idx):\n",
    "        item = {k: torch.tensor(v[idx]) for k, v in self.encodings.items()}\n",
    "        item['labels'] = torch.tensor(self.labels[idx])\n",
    "        return item\n",
    "\n",
    "train_dataset = CombinedDataset(data_balanced['text'].tolist(), data_balanced['label'].tolist(), tokenizer)\n",
    "train_loader = DataLoader(train_dataset, batch_size=4, shuffle=True)"
   ]
  },
  {
   "cell_type": "markdown",
   "id": "a5c4b2dd",
   "metadata": {},
   "source": [
    "# model stuff"
   ]
  },
  {
   "cell_type": "code",
   "execution_count": 4,
   "id": "4c422add",
   "metadata": {},
   "outputs": [
    {
     "name": "stderr",
     "output_type": "stream",
     "text": [
      "Some weights of T5ForSequenceClassification were not initialized from the model checkpoint at t5-large and are newly initialized: ['classification_head.dense.bias', 'classification_head.dense.weight', 'classification_head.out_proj.bias', 'classification_head.out_proj.weight']\n",
      "You should probably TRAIN this model on a down-stream task to be able to use it for predictions and inference.\n"
     ]
    }
   ],
   "source": [
    "model = T5ForSequenceClassification.from_pretrained(\"t5-large\", num_labels=2)"
   ]
  },
  {
   "cell_type": "code",
   "execution_count": 5,
   "id": "b4c09972",
   "metadata": {},
   "outputs": [
    {
     "name": "stderr",
     "output_type": "stream",
     "text": [
      "100%|██████████| 13452/13452 [2:22:54<00:00,  1.57it/s] \n"
     ]
    },
    {
     "name": "stdout",
     "output_type": "stream",
     "text": [
      "Epoch 1 Loss: 189.2406\n"
     ]
    },
    {
     "name": "stderr",
     "output_type": "stream",
     "text": [
      "100%|██████████| 13452/13452 [2:22:39<00:00,  1.57it/s] \n"
     ]
    },
    {
     "name": "stdout",
     "output_type": "stream",
     "text": [
      "Epoch 2 Loss: 39.0959\n"
     ]
    },
    {
     "name": "stderr",
     "output_type": "stream",
     "text": [
      "100%|██████████| 13452/13452 [2:22:47<00:00,  1.57it/s] "
     ]
    },
    {
     "name": "stdout",
     "output_type": "stream",
     "text": [
      "Epoch 3 Loss: 24.9684\n"
     ]
    },
    {
     "name": "stderr",
     "output_type": "stream",
     "text": [
      "\n"
     ]
    }
   ],
   "source": [
    "# Train\n",
    "\n",
    "device = torch.device(\"cuda\" if torch.cuda.is_available() else \"cpu\")\n",
    "model.to(device)\n",
    "\n",
    "from torch.optim import AdamW\n",
    "from tqdm import tqdm\n",
    "\n",
    "optimizer = AdamW(model.parameters(), lr=2e-5)\n",
    "\n",
    "model.train()\n",
    "for epoch in range(3):\n",
    "    total_loss = 0\n",
    "    for batch in tqdm(train_loader):\n",
    "        batch = {k: v.to(device) for k, v in batch.items()}\n",
    "        outputs = model(**batch)\n",
    "        loss = outputs.loss\n",
    "        total_loss += loss.item()\n",
    "        loss.backward()\n",
    "        optimizer.step()\n",
    "        optimizer.zero_grad()\n",
    "    print(f\"Epoch {epoch + 1} Loss: {total_loss:.4f}\")"
   ]
  },
  {
   "cell_type": "code",
   "execution_count": 7,
   "id": "cb18ab14",
   "metadata": {},
   "outputs": [
    {
     "data": {
      "text/plain": [
       "('t5-large-ai-detector/tokenizer_config.json',\n",
       " 't5-large-ai-detector/special_tokens_map.json',\n",
       " 't5-large-ai-detector/spiece.model',\n",
       " 't5-large-ai-detector/added_tokens.json')"
      ]
     },
     "execution_count": 7,
     "metadata": {},
     "output_type": "execute_result"
    }
   ],
   "source": [
    "model.save_pretrained(\"t5-large-ai-detector\")\n",
    "tokenizer.save_pretrained(\"t5-large-ai-detector\")\n"
   ]
  },
  {
   "cell_type": "markdown",
   "id": "b280ffa7",
   "metadata": {},
   "source": [
    "# eval"
   ]
  },
  {
   "cell_type": "code",
   "execution_count": 3,
   "id": "d2073dcf",
   "metadata": {},
   "outputs": [],
   "source": [
    "from transformers import T5ForSequenceClassification, T5Tokenizer\n",
    "\n",
    "device = torch.device(\"cuda\" if torch.cuda.is_available() else \"cpu\")\n",
    "\n",
    "# Load model and tokenizer from the saved directory\n",
    "model = T5ForSequenceClassification.from_pretrained(\"t5-large-ai-detector\").to(device)\n",
    "tokenizer = T5Tokenizer.from_pretrained(\"t5-large-ai-detector\")\n",
    "\n",
    "# Predict\n",
    "model.eval()\n",
    "preds = []"
   ]
  },
  {
   "cell_type": "code",
   "execution_count": 4,
   "id": "574143be",
   "metadata": {},
   "outputs": [
    {
     "name": "stderr",
     "output_type": "stream",
     "text": [
      "  0%|          | 0/3000 [00:00<?, ?it/s]Passing a tuple of `past_key_values` is deprecated and will be removed in Transformers v4.48.0. You should pass an instance of `EncoderDecoderCache` instead, e.g. `past_key_values=EncoderDecoderCache.from_legacy_cache(past_key_values)`.\n",
      "100%|██████████| 3000/3000 [18:26<00:00,  2.71it/s]"
     ]
    },
    {
     "name": "stdout",
     "output_type": "stream",
     "text": [
      "               precision    recall  f1-score   support\n",
      "\n",
      " AI-generated       0.99      0.83      0.90     12000\n",
      "Human-written       0.85      0.99      0.92     12000\n",
      "\n",
      "     accuracy                           0.91     24000\n",
      "    macro avg       0.92      0.91      0.91     24000\n",
      " weighted avg       0.92      0.91      0.91     24000\n",
      "\n"
     ]
    },
    {
     "name": "stderr",
     "output_type": "stream",
     "text": [
      "\n"
     ]
    }
   ],
   "source": [
    "import os\n",
    "import jsonlines\n",
    "import torch\n",
    "from sklearn.metrics import classification_report\n",
    "from tqdm import tqdm\n",
    "\n",
    "dev_dir = \"cs162-final-dev-main\"\n",
    "device = torch.device(\"cuda\" if torch.cuda.is_available() else \"cpu\")\n",
    "human_texts, machine_texts = [], []\n",
    "\n",
    "for filename in os.listdir(dev_dir):\n",
    "    if filename.endswith(\".jsonl\"):\n",
    "        file_path = os.path.join(dev_dir, filename)\n",
    "        with jsonlines.open(file_path) as reader:\n",
    "            for row in reader:\n",
    "                human_texts.append(row[\"human_text\"])\n",
    "                machine_texts.append(row[\"machine_text\"])\n",
    "\n",
    "test_texts = human_texts + machine_texts\n",
    "true_labels = [1] * len(human_texts) + [0] * len(machine_texts)\n",
    "\n",
    "# Predict\n",
    "model.eval()\n",
    "preds = []\n",
    "\n",
    "with torch.no_grad():\n",
    "    for i in tqdm(range(0, len(test_texts), 8)):\n",
    "        batch = test_texts[i:i+8]\n",
    "        encodings = tokenizer(batch, return_tensors=\"pt\", padding=True, truncation=True, max_length=256)\n",
    "        input_ids = encodings[\"input_ids\"].to(device)\n",
    "        attention_mask = encodings[\"attention_mask\"].to(device)\n",
    "        outputs = model(input_ids=input_ids, attention_mask=attention_mask)\n",
    "        batch_preds = torch.argmax(outputs.logits, dim=1).tolist()\n",
    "        preds.extend(batch_preds)\n",
    "\n",
    "# Evaluate\n",
    "from sklearn.metrics import classification_report\n",
    "\n",
    "print(classification_report(true_labels, preds, target_names=[\"AI-generated\", \"Human-written\"]))"
   ]
  }
 ],
 "metadata": {
  "kernelspec": {
   "display_name": "venv",
   "language": "python",
   "name": "python3"
  },
  "language_info": {
   "codemirror_mode": {
    "name": "ipython",
    "version": 3
   },
   "file_extension": ".py",
   "mimetype": "text/x-python",
   "name": "python",
   "nbconvert_exporter": "python",
   "pygments_lexer": "ipython3",
   "version": "3.8.10"
  }
 },
 "nbformat": 4,
 "nbformat_minor": 5
}
